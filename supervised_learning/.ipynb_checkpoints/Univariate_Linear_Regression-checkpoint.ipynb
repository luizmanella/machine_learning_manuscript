{
 "cells": [
  {
   "cell_type": "markdown",
   "id": "2cadf20b",
   "metadata": {},
   "source": [
    "<h1>Multivariate Linear Regression</h1>\n",
    "<h3>Goal:</h3>\n",
    "<p>Here I wanted to code my own multivariate linear regression since it is a very simple model. The solution is in closed form and thus this is simple mathematical programming. The function is ready to be used</p>   "
   ]
  },
  {
   "cell_type": "code",
   "execution_count": 162,
   "id": "a936bd43",
   "metadata": {},
   "outputs": [],
   "source": [
    "import pandas as pd"
   ]
  },
  {
   "cell_type": "code",
   "execution_count": 203,
   "id": "92383c76",
   "metadata": {},
   "outputs": [],
   "source": [
    "def my_univariate_linear_regression(df):\n",
    "    \"\"\"\n",
    "    This function runs a univariate linear regression and returns\n",
    "    the slope and intercept. Uses the closed form solution of \n",
    "    the gradient of the SSE with respect to the parameters.\n",
    "    \n",
    "    @params:\n",
    "        df: a pandas dataframe with 2 columns named training and\n",
    "            target\n",
    "    \n",
    "    @returns:\n",
    "        np.array: (intercept, slope)\n",
    "    \"\"\"\n",
    "    import numpy as np\n",
    "    \n",
    "    dimension = df.shape[0]\n",
    "    X = np.matrix([np.ones(dimension),df['training']]).T\n",
    "    y = df['target']\n",
    "    left = np.matmul(y.T,X)\n",
    "    right = np.matmul(X.T, X)\n",
    "    inv = np.linalg.inv(right)\n",
    "    return np.array(np.matmul(left, inv))\n",
    "    \n"
   ]
  }
 ],
 "metadata": {
  "kernelspec": {
   "display_name": "Python 3 (ipykernel)",
   "language": "python",
   "name": "python3"
  },
  "language_info": {
   "codemirror_mode": {
    "name": "ipython",
    "version": 3
   },
   "file_extension": ".py",
   "mimetype": "text/x-python",
   "name": "python",
   "nbconvert_exporter": "python",
   "pygments_lexer": "ipython3",
   "version": "3.9.6"
  }
 },
 "nbformat": 4,
 "nbformat_minor": 5
}
