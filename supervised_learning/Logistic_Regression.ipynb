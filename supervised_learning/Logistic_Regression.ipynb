{
 "cells": [
  {
   "cell_type": "markdown",
   "id": "b29f10a7",
   "metadata": {},
   "source": [
    "<h1>Logistic Regression</h1>\n",
    "<h3>Goal:</h3>\n",
    "<p>Perform classification over Iris dataset using sklearn's logistic regression</p>"
   ]
  },
  {
   "cell_type": "code",
   "execution_count": 1,
   "id": "dba4b978",
   "metadata": {},
   "outputs": [],
   "source": [
    "import pandas as pd\n",
    "import numpy as np\n",
    "from sklearn import datasets\n",
    "from sklearn.linear_model import LogisticRegression"
   ]
  },
  {
   "cell_type": "code",
   "execution_count": 2,
   "id": "91525d97",
   "metadata": {},
   "outputs": [],
   "source": [
    "# Load the iris data\n",
    "iris = datasets.load_iris()\n",
    "\n",
    "# Separate features and labels\n",
    "features = iris['data']\n",
    "labels = iris['target']"
   ]
  },
  {
   "cell_type": "markdown",
   "id": "ac210d3e",
   "metadata": {},
   "source": [
    "<br>\n",
    "<h3>Quick Note:</h3>\n",
    "<p>We need to balance our data set because it comes ordered with respect to the labels; this implies we would train over some classes but not over others.</p>\n",
    "<p>Pandas has a nice built in feature for shuffling rows.</p>\n"
   ]
  },
  {
   "cell_type": "code",
   "execution_count": 3,
   "id": "9a48a9d5",
   "metadata": {},
   "outputs": [],
   "source": [
    "feature_names = []\n",
    "for i in range(4):\n",
    "    feature_names.append(f'feature_{i}')\n",
    "df = pd.DataFrame(data=features, columns=feature_names)\n",
    "df['labels'] = labels\n",
    "df = df.sample(frac=1)"
   ]
  },
  {
   "cell_type": "code",
   "execution_count": 4,
   "id": "be38b3bc",
   "metadata": {},
   "outputs": [
    {
     "name": "stdout",
     "output_type": "stream",
     "text": [
      "36 33 36\n",
      "14 17 14\n"
     ]
    }
   ],
   "source": [
    "# Create the split for train, test data\n",
    "data_shape = labels.shape[0]\n",
    "split = int(data_shape*0.7)\n",
    "\n",
    "# Split train and test\n",
    "x_train = df[feature_names].iloc[:split]\n",
    "y_train = df['labels'].iloc[:split]\n",
    "x_test = df[feature_names].iloc[split:]\n",
    "y_test = df['labels'].iloc[split:]\n",
    "\n",
    "# We print the labels to see the dispersion of classes\n",
    "print(y_train[y_train==0].count(),y_train[y_train==1].count(),y_train[y_train==2].count())\n",
    "print(y_test[y_test==0].count(),y_test[y_test==1].count(),y_test[y_test==2].count())\n",
    "\n",
    "model = LogisticRegression(random_state=0, fit_intercept=False).fit(x_train, y_train)"
   ]
  },
  {
   "cell_type": "markdown",
   "id": "769bd4d6",
   "metadata": {},
   "source": [
    "<br>\n",
    "<h3>We confirm the accuracy of the model via a confusion matrix</h3>\n",
    "<p>Logistic regression is more than enough to handle this data and so we should see good results</p>"
   ]
  },
  {
   "cell_type": "code",
   "execution_count": 5,
   "id": "e68a38ea",
   "metadata": {},
   "outputs": [
    {
     "data": {
      "text/plain": [
       "array([[14,  0,  0],\n",
       "       [ 0, 15,  2],\n",
       "       [ 0,  3, 11]], dtype=int64)"
      ]
     },
     "execution_count": 5,
     "metadata": {},
     "output_type": "execute_result"
    }
   ],
   "source": [
    "# Make predictions\n",
    "prediction = model.predict(x_test)\n",
    "\n",
    "from sklearn.metrics import confusion_matrix\n",
    "confusion_matrix(y_test, prediction)"
   ]
  },
  {
   "cell_type": "code",
   "execution_count": null,
   "id": "6f264c58",
   "metadata": {},
   "outputs": [],
   "source": []
  }
 ],
 "metadata": {
  "kernelspec": {
   "display_name": "Python 3 (ipykernel)",
   "language": "python",
   "name": "python3"
  },
  "language_info": {
   "codemirror_mode": {
    "name": "ipython",
    "version": 3
   },
   "file_extension": ".py",
   "mimetype": "text/x-python",
   "name": "python",
   "nbconvert_exporter": "python",
   "pygments_lexer": "ipython3",
   "version": "3.9.6"
  }
 },
 "nbformat": 4,
 "nbformat_minor": 5
}
