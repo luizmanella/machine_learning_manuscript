{
 "cells": [
  {
   "cell_type": "markdown",
   "id": "14d0e4c9",
   "metadata": {},
   "source": [
    "<h1>Convolutional Neural Network for MNIST</h1>\n",
    "<h3>Goal:</h3>\n",
    "<p>The following project is an extension of the MLP for MNIST project. We are building an CNN to classify MNIST, hand-written digits, data. We first import the data from <i>tensorflow</i> and normalize it to have numbers between 0 and 1. When building the network we use max pooling of size 2x2, convolutions with a kernel size 3x3, activations using ReLu, and also include a dropout of 50%. Although it may be overkill for just MNIST, it is primal structure for tackling more complex problems.</p>"
   ]
  },
  {
   "cell_type": "code",
   "execution_count": 12,
   "id": "861cb2ed",
   "metadata": {},
   "outputs": [],
   "source": [
    "import numpy as np\n",
    "import tensorflow as tf\n",
    "import matplotlib.pyplot as plt\n",
    "\n",
    "# The number of digits, 0-9\n",
    "num_of_classes = 10\n",
    "# The shape of each image in MNIST\n",
    "input_shape = (28,28,1)"
   ]
  },
  {
   "cell_type": "markdown",
   "id": "13f18b1b",
   "metadata": {},
   "source": [
    "<h3>Import the data and plot one digit</h3>\n",
    "<p>The plotting is simply for nice visuals that the data was imported properly</p>"
   ]
  },
  {
   "cell_type": "code",
   "execution_count": 13,
   "id": "a7d85814",
   "metadata": {},
   "outputs": [
    {
     "data": {
      "text/plain": [
       "<matplotlib.image.AxesImage at 0x2a705940430>"
      ]
     },
     "execution_count": 13,
     "metadata": {},
     "output_type": "execute_result"
    },
    {
     "data": {
      "image/png": "[encoded data removed]",
      "text/plain": [
       "<Figure size 432x288 with 1 Axes>"
      ]
     },
     "metadata": {
      "needs_background": "light"
     },
     "output_type": "display_data"
    }
   ],
   "source": [
    "(x_train, y_train), (x_test, y_test) = tf.keras.datasets.mnist.load_data()\n",
    "plt.imshow(x_train[1])"
   ]
  },
  {
   "cell_type": "markdown",
   "id": "3d9e7433",
   "metadata": {},
   "source": [
    "<h3>Reshape the data and normalize</h3>\n",
    "<p>The data comes as a matrix representing the pixels and so lines 2 and 3 here are flattening them to have a vector rather than matrix</p>"
   ]
  },
  {
   "cell_type": "code",
   "execution_count": 14,
   "id": "8ab103fd",
   "metadata": {},
   "outputs": [],
   "source": [
    "# Now we scale our data to [0,1]\n",
    "x_train = x_train.astype('float32') / 255\n",
    "x_test = x_test.astype('float32') / 255\n",
    "\n",
    "# Next we make sure images have the proper shape (28, 28, 1) by adding a new channel\n",
    "x_train = x_train[..., tf.newaxis].astype('float32')\n",
    "x_test = x_test[..., tf.newaxis].astype('float32')\n",
    "\n",
    "y_train = tf.keras.utils.to_categorical(y_train, num_of_classes)\n",
    "y_test = tf.keras.utils.to_categorical(y_test, num_of_classes)"
   ]
  },
  {
   "cell_type": "markdown",
   "id": "101d179d",
   "metadata": {},
   "source": [
    "<h3>Next, we create the CNN model and compile it</h3>"
   ]
  },
  {
   "cell_type": "code",
   "execution_count": 15,
   "id": "d9ed11cf",
   "metadata": {},
   "outputs": [],
   "source": [
    "# Now we build the model\n",
    "model = tf.keras.Sequential(\n",
    "    [\n",
    "        tf.keras.Input(shape=input_shape),\n",
    "        tf.keras.layers.Conv2D(32, kernel_size=(3, 3), activation='relu'),\n",
    "        tf.keras.layers.MaxPooling2D(pool_size=(2, 2)),\n",
    "        tf.keras.layers.Conv2D(64, kernel_size=(3, 3), activation='relu'),\n",
    "        tf.keras.layers.MaxPooling2D(pool_size=(2, 2)),\n",
    "        tf.keras.layers.Flatten(),\n",
    "        tf.keras.layers.Dropout(0.5),\n",
    "        tf.keras.layers.Dense(num_of_classes, activation='softmax')\n",
    "    ]\n",
    ")\n",
    "model.compile(loss='categorical_crossentropy', optimizer='adam', metrics=['accuracy'])"
   ]
  },
  {
   "cell_type": "markdown",
   "id": "74f67983",
   "metadata": {},
   "source": [
    "<h3>The following is a quick look at a summary of the model</h3>"
   ]
  },
  {
   "cell_type": "code",
   "execution_count": 16,
   "id": "f35ba6a9",
   "metadata": {
    "scrolled": false
   },
   "outputs": [
    {
     "name": "stdout",
     "output_type": "stream",
     "text": [
      "Model: \"sequential_1\"\n",
      "_________________________________________________________________\n",
      "Layer (type)                 Output Shape              Param #   \n",
      "=================================================================\n",
      "conv2d_2 (Conv2D)            (None, 26, 26, 32)        320       \n",
      "_________________________________________________________________\n",
      "max_pooling2d_2 (MaxPooling2 (None, 13, 13, 32)        0         \n",
      "_________________________________________________________________\n",
      "conv2d_3 (Conv2D)            (None, 11, 11, 64)        18496     \n",
      "_________________________________________________________________\n",
      "max_pooling2d_3 (MaxPooling2 (None, 5, 5, 64)          0         \n",
      "_________________________________________________________________\n",
      "flatten_1 (Flatten)          (None, 1600)              0         \n",
      "_________________________________________________________________\n",
      "dropout_1 (Dropout)          (None, 1600)              0         \n",
      "_________________________________________________________________\n",
      "dense_1 (Dense)              (None, 10)                16010     \n",
      "=================================================================\n",
      "Total params: 34,826\n",
      "Trainable params: 34,826\n",
      "Non-trainable params: 0\n",
      "_________________________________________________________________\n"
     ]
    }
   ],
   "source": [
    "model.summary()"
   ]
  },
  {
   "cell_type": "markdown",
   "id": "f68b72a3",
   "metadata": {},
   "source": [
    "<h3>The final step is to train the model using the <i>fit</i> method</h3>"
   ]
  },
  {
   "cell_type": "code",
   "execution_count": 17,
   "id": "21b319f0",
   "metadata": {},
   "outputs": [
    {
     "name": "stdout",
     "output_type": "stream",
     "text": [
      "Epoch 1/6\n",
      "469/469 [==============================] - 11s 4ms/step - loss: 0.3333 - accuracy: 0.8988 0s - loss:\n",
      "Epoch 2/6\n",
      "469/469 [==============================] - 2s 4ms/step - loss: 0.1048 - accuracy: 0.9674\n",
      "Epoch 3/6\n",
      "469/469 [==============================] - 2s 4ms/step - loss: 0.0798 - accuracy: 0.9758: 0s -\n",
      "Epoch 4/6\n",
      "469/469 [==============================] - 2s 4ms/step - loss: 0.0665 - accuracy: 0.9795\n",
      "Epoch 5/6\n",
      "469/469 [==============================] - 2s 4ms/step - loss: 0.0591 - accuracy: 0.9815\n",
      "Epoch 6/6\n",
      "469/469 [==============================] - 2s 4ms/step - loss: 0.0517 - accuracy: 0.9839\n"
     ]
    }
   ],
   "source": [
    "batch_size = 128\n",
    "epochs = 6\n",
    "model.fit(x_train, y_train, batch_size=batch_size, epochs=epochs)"
   ]
  },
  {
   "cell_type": "markdown",
   "id": "029a5aee",
   "metadata": {},
   "source": [
    "<h3>Plot the accuracy per epoch</h3><h3>Lastly, we make predictions over the testing data and check the accuracy</h3>\n",
    "<p>We first make a prediction and then use the built in evaluation method that will make predictions on the test set and then compute the accuracy.</p>"
   ]
  },
  {
   "cell_type": "code",
   "execution_count": null,
   "id": "2535059d",
   "metadata": {},
   "outputs": [
    {
     "name": "stdout",
     "output_type": "stream",
     "text": [
      "196/313 [=================>............] - ETA: 0s - loss: 0.0380 - accuracy: 0.9868"
     ]
    }
   ],
   "source": [
    "predictions = model.predict(x_test)\n",
    "test_loss, test_acc = model.evaluate(x_test, y_test)"
   ]
  },
  {
   "cell_type": "code",
   "execution_count": null,
   "id": "1d99c684",
   "metadata": {},
   "outputs": [],
   "source": []
  }
 ],
 "metadata": {
  "kernelspec": {
   "display_name": "Python 3 (ipykernel)",
   "language": "python",
   "name": "python3"
  },
  "language_info": {
   "codemirror_mode": {
    "name": "ipython",
    "version": 3
   },
   "file_extension": ".py",
   "mimetype": "text/x-python",
   "name": "python",
   "nbconvert_exporter": "python",
   "pygments_lexer": "ipython3",
   "version": "3.9.6"
  }
 },
 "nbformat": 4,
 "nbformat_minor": 5
}
