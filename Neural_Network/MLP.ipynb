{
 "cells": [
  {
   "cell_type": "markdown",
   "id": "917a921d",
   "metadata": {},
   "source": [
    "<h1>Multi Layer Perceptron for MNIST</h1>\n",
    "<h3>Goal:</h3>\n",
    "<p>The following project is a simple one. We are building an MLP to classify MNIST, hand-written digits, data. We first import the data from <i>tensorflow</i> and normalize it to have numbers between 0 and 1. We then build the network as such:</p>\n",
    "<ul>\n",
    "    <li>Input layer (784 nodes), hidden layer (256 nodes), hidden layer (128 nodes), output layer (10 nodes)</li>\n",
    "    <li>ReLu activation between hidden layers</li>\n",
    "    <li>Softmax activation from the last hidden layer to the output layer</li>\n",
    "    <li>Adam optimizer</li>\n",
    "    <li>Sparse Categorial Cross Entropy loss function (does one-hot-encoding in the background)</li>\n",
    "</ul>"
   ]
  },
  {
   "cell_type": "code",
   "execution_count": 1,
   "id": "4e94da5c",
   "metadata": {},
   "outputs": [],
   "source": [
    "import tensorflow as tf\n",
    "import numpy as np\n",
    "import matplotlib.pyplot as plt"
   ]
  },
  {
   "cell_type": "markdown",
   "id": "7fa5d748",
   "metadata": {},
   "source": [
    "<h3>Import the data and plot one digit</h3>\n",
    "<p>The plotting is simply for nice visuals that the data was imported properly</p>"
   ]
  },
  {
   "cell_type": "code",
   "execution_count": 9,
   "id": "a7ce429b",
   "metadata": {},
   "outputs": [
    {
     "data": {
      "text/plain": [
       "<matplotlib.image.AxesImage at 0x222d13f5730>"
      ]
     },
     "execution_count": 9,
     "metadata": {},
     "output_type": "execute_result"
    },
    {
     "data": {
      "image/png": "[encoded data removed]",
      "text/plain": [
       "<Figure size 432x288 with 1 Axes>"
      ]
     },
     "metadata": {
      "needs_background": "light"
     },
     "output_type": "display_data"
    }
   ],
   "source": [
    "(x_train, y_train), (x_test, y_test) = tf.keras.datasets.mnist.load_data()\n",
    "plt.imshow(x_train[1])"
   ]
  },
  {
   "cell_type": "markdown",
   "id": "02532b91",
   "metadata": {},
   "source": [
    "<h3>Reshape the data and normalize</h3>\n",
    "<p>The data comes as a matrix representing the pixels and so lines 2 and 3 here are flattening them to have a vector rather than matrix</p>"
   ]
  },
  {
   "cell_type": "code",
   "execution_count": 4,
   "id": "e37689d7",
   "metadata": {},
   "outputs": [],
   "source": [
    "x_train = x_train.reshape(x_train.shape[0], x_train.shape[1]*x_train.shape[2])\n",
    "x_test = x_test.reshape(x_test.shape[0], x_test.shape[1]*x_test.shape[2])\n",
    "x_train = x_train/255\n",
    "x_test = x_test/255"
   ]
  },
  {
   "cell_type": "markdown",
   "id": "9b7351d4",
   "metadata": {},
   "source": [
    "<h3>Next, we create the MLP model and compile it</h3>"
   ]
  },
  {
   "cell_type": "code",
   "execution_count": 5,
   "id": "505d3906",
   "metadata": {},
   "outputs": [],
   "source": [
    "# create model\n",
    "model = tf.keras.Sequential()\n",
    "model.add(tf.keras.Input(x_train.shape[1]))\n",
    "# add a hidden layer\n",
    "model.add(tf.keras.layers.Dense(256, activation=\"sigmoid\"))\n",
    "# add a hidden layer\n",
    "model.add(tf.keras.layers.Dense(128, activation=\"sigmoid\"))\n",
    "# add the output layer\n",
    "model.add(tf.keras.layers.Dense(10, activation=\"sigmoid\"))\n",
    "# compile the model\n",
    "model.compile(\n",
    "    optimizer=\"adam\",\n",
    "    loss=tf.keras.losses.SparseCategoricalCrossentropy(from_logits=True),\n",
    "    metrics=[\"accuracy\"]\n",
    ")"
   ]
  },
  {
   "cell_type": "markdown",
   "id": "5d76afbf",
   "metadata": {},
   "source": [
    "<h3>The following is a quick look at a summary of the model</h3>"
   ]
  },
  {
   "cell_type": "code",
   "execution_count": 6,
   "id": "9c86ac46",
   "metadata": {},
   "outputs": [
    {
     "name": "stdout",
     "output_type": "stream",
     "text": [
      "Model: \"sequential\"\n",
      "_________________________________________________________________\n",
      "Layer (type)                 Output Shape              Param #   \n",
      "=================================================================\n",
      "dense (Dense)                (None, 256)               200960    \n",
      "_________________________________________________________________\n",
      "dense_1 (Dense)              (None, 128)               32896     \n",
      "_________________________________________________________________\n",
      "dense_2 (Dense)              (None, 10)                1290      \n",
      "=================================================================\n",
      "Total params: 235,146\n",
      "Trainable params: 235,146\n",
      "Non-trainable params: 0\n",
      "_________________________________________________________________\n"
     ]
    }
   ],
   "source": [
    "model.summary()"
   ]
  },
  {
   "cell_type": "markdown",
   "id": "85f2ed78",
   "metadata": {},
   "source": [
    "<h3>The final step is to train the model using the <i>fit</i> method</h3>"
   ]
  },
  {
   "cell_type": "code",
   "execution_count": null,
   "id": "3b2b8143",
   "metadata": {},
   "outputs": [
    {
     "name": "stdout",
     "output_type": "stream",
     "text": [
      "Epoch 1/6\n"
     ]
    },
    {
     "name": "stderr",
     "output_type": "stream",
     "text": [
      "C:\\Users\\luizm\\AppData\\Roaming\\Python\\Python39\\site-packages\\keras\\backend.py:4906: UserWarning: \"`sparse_categorical_crossentropy` received `from_logits=True`, but the `output` argument was produced by a sigmoid or softmax activation and thus does not represent logits. Was this intended?\"\n",
      "  warnings.warn(\n"
     ]
    },
    {
     "name": "stdout",
     "output_type": "stream",
     "text": [
      "1875/1875 [==============================] - 5s 2ms/step - loss: 0.3773 - accuracy: 0.8959\n",
      "Epoch 2/6\n",
      " 943/1875 [==============>...............] - ETA: 2s - loss: 0.1654 - accuracy: 0.9506"
     ]
    }
   ],
   "source": [
    "# The number of epochs was chosen arbitrarily.\n",
    "model.fit(x_train, y_train, epochs=6)"
   ]
  },
  {
   "cell_type": "markdown",
   "id": "874d8780",
   "metadata": {},
   "source": [
    "<h3>Lastly, we make predictions over the testing data and check the accuracy</h3>\n",
    "<p>We first make a prediction and then use the built in evaluation method that will make predictions on the test set and then compute the accuracy.</p>"
   ]
  },
  {
   "cell_type": "code",
   "execution_count": null,
   "id": "c675c5a1",
   "metadata": {},
   "outputs": [],
   "source": [
    "predictions = model.predict(x_test)\n",
    "test_loss, test_acc = model.evaluate(x_test, y_test)"
   ]
  }
 ],
 "metadata": {
  "kernelspec": {
   "display_name": "Python 3 (ipykernel)",
   "language": "python",
   "name": "python3"
  },
  "language_info": {
   "codemirror_mode": {
    "name": "ipython",
    "version": 3
   },
   "file_extension": ".py",
   "mimetype": "text/x-python",
   "name": "python",
   "nbconvert_exporter": "python",
   "pygments_lexer": "ipython3",
   "version": "3.9.6"
  }
 },
 "nbformat": 4,
 "nbformat_minor": 5
}
