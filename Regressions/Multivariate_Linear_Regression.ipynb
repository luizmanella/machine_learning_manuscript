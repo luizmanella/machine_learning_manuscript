{
 "cells": [
  {
   "cell_type": "markdown",
   "id": "c2c074dc",
   "metadata": {},
   "source": [
    "<h1>Multivariate Linear Regression</h1>\n",
    "<h3>Goal:</h3>\n",
    "<p>Here I wanted to code my own multivariate linear regression since it is a very simple model. I used the pseudo-inverse to make sure that regardless of the data passed, even if the matrix is singular, we can obtain a solution as pseudo-inverses always exist. This time I am not giving an example case but instead made a version that can be used directly by calling the function.</p>"
   ]
  },
  {
   "cell_type": "code",
   "execution_count": 2,
   "id": "adec9030",
   "metadata": {},
   "outputs": [],
   "source": [
    "import pandas as pd"
   ]
  },
  {
   "cell_type": "code",
   "execution_count": 3,
   "id": "c6d9ef2c",
   "metadata": {},
   "outputs": [],
   "source": [
    "def multivariate_linear_regression(df):\n",
    "    \"\"\"\n",
    "    This function runs a multivariate linear regression and returns\n",
    "    the slope and intercept. Uses the closed form solution of \n",
    "    the gradient of the SSE with respect to the parameters. We use\n",
    "    the pseudo-inverse when computing the matrix inverse since the\n",
    "    pseudo-inverse always exists and thus allows for generalization.\n",
    "    \n",
    "    @params:\n",
    "        df: a pandas dataframe with n columns. One column is named\n",
    "            target.\n",
    "    \n",
    "    @returns:\n",
    "        np.array: (intercept, slope)\n",
    "    \"\"\"\n",
    "    import numpy as np\n",
    "    \n",
    "    dimension = df.shape[0]\n",
    "    \n",
    "    df['ones'] = np.ones(dimension)    \n",
    "    # Ordering the matrix so the column of 1s is on the left\n",
    "    cols = df.columns.to_list()\n",
    "    cols.remove('ones')\n",
    "    cols.insert(1, 'ones')\n",
    "    df = df[cols]\n",
    "    \n",
    "    training_columns = cols\n",
    "    training_columns.remove('target')\n",
    "    \n",
    "    X = np.matrix(df[training_columns].to_numpy())\n",
    "    y = np.matrix(df['target']).T\n",
    "    left = np.matmul(y.T,X)\n",
    "    right = np.matmul(X.T, X)\n",
    "    inv = np.linalg.pinv(right)\n",
    "\n",
    "    return np.array(np.matmul(left, inv))\n",
    "    \n"
   ]
  }
 ],
 "metadata": {
  "kernelspec": {
   "display_name": "Python 3 (ipykernel)",
   "language": "python",
   "name": "python3"
  },
  "language_info": {
   "codemirror_mode": {
    "name": "ipython",
    "version": 3
   },
   "file_extension": ".py",
   "mimetype": "text/x-python",
   "name": "python",
   "nbconvert_exporter": "python",
   "pygments_lexer": "ipython3",
   "version": "3.9.6"
  }
 },
 "nbformat": 4,
 "nbformat_minor": 5
}
