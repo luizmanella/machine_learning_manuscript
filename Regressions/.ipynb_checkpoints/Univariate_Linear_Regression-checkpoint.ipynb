{
 "cells": [
  {
   "cell_type": "code",
   "execution_count": 162,
   "id": "a936bd43",
   "metadata": {},
   "outputs": [],
   "source": [
    "import pandas as pd"
   ]
  },
  {
   "cell_type": "code",
   "execution_count": 203,
   "id": "92383c76",
   "metadata": {},
   "outputs": [],
   "source": [
    "def my_univariate_linear_regression(df):\n",
    "    \"\"\"\n",
    "    This function runs a univariate linear regression and returns\n",
    "    the slope and intercept. Uses the closed form solution of \n",
    "    the gradient of the SSE with respect to the parameters.\n",
    "    \n",
    "    @params:\n",
    "        df: a pandas dataframe with 2 columns named training and\n",
    "            target\n",
    "    \n",
    "    @returns:\n",
    "        np.array: (intercept, slope)\n",
    "    \"\"\"\n",
    "    import numpy as np\n",
    "    \n",
    "    dimension = df.shape[0]\n",
    "    X = np.matrix([np.ones(dimension),df['training']]).T\n",
    "    y = df['target']\n",
    "    print(f'X: {X.shape}')\n",
    "    left = np.matmul(y.T,X)\n",
    "    right = np.matmul(X.T, X)\n",
    "    inv = np.linalg.inv(right)\n",
    "    return np.array(np.matmul(left, inv))\n",
    "    \n"
   ]
  },
  {
   "cell_type": "code",
   "execution_count": 232,
   "id": "8def3d71",
   "metadata": {},
   "outputs": [],
   "source": [
    "def popular_univariate_linear_regression(df):\n",
    "    \"\"\"\n",
    "    This function uses sklearn to run a univariate linear regression\n",
    "    and returns the slope and intercept.\n",
    "    \n",
    "    @params:\n",
    "        df: a pandas dataframe with 2 columns named training and \n",
    "            target\n",
    "    \n",
    "    @returns:\n",
    "        np.array: (intercept, slope)\n",
    "    \"\"\"\n",
    "    import numpy as np\n",
    "    from sklearn.linear_model import LinearRegression\n",
    "    \n",
    "    dimension = df.shape[0]\n",
    "    X = df['training'].to_numpy()\n",
    "    y = df['target'].to_numpy()\n",
    "    \n",
    "    print(X.shape,y.shape)\n",
    "    reg = LinearRegression().fit(X.reshape(dimension, 1), y)\n",
    "\n",
    "    return np.array([[reg.intercept_, reg.coef_[0]]])"
   ]
  }
 ],
 "metadata": {
  "kernelspec": {
   "display_name": "Python 3",
   "language": "python",
   "name": "python3"
  },
  "language_info": {
   "codemirror_mode": {
    "name": "ipython",
    "version": 3
   },
   "file_extension": ".py",
   "mimetype": "text/x-python",
   "name": "python",
   "nbconvert_exporter": "python",
   "pygments_lexer": "ipython3",
   "version": "3.8.5"
  }
 },
 "nbformat": 4,
 "nbformat_minor": 5
}
