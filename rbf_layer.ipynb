{
 "cells": [
  {
   "cell_type": "markdown",
   "id": "11773d0f",
   "metadata": {},
   "source": [
    "<h1>Radial Basis Function Network</h1>\n",
    "<h3>Goal:</h3>\n",
    "<p>Rather than building out a project, we will instead code a custom Keras layer to represent the activation function. If you were to build out the network, you need to instantiate the centroids, which typically is done using k-Means.</p>"
   ]
  },
  {
   "cell_type": "code",
   "execution_count": 2,
   "id": "d4644661",
   "metadata": {},
   "outputs": [],
   "source": [
    "from keras.layers import Layer\n",
    "from keras import backend"
   ]
  },
  {
   "cell_type": "code",
   "execution_count": 3,
   "id": "b0771304",
   "metadata": {},
   "outputs": [],
   "source": [
    "class CustomRBFLayer(Layer):\n",
    "    def __init__(self, nodes, beta, **kwargs):\n",
    "        super(RBFLayer, self).__init__(**kwargs)\n",
    "        self.nodes = nodes\n",
    "        self.beta = backend.cast_to_floatx(beta)\n",
    "    \n",
    "    def build(self, shape):\n",
    "        self.mu = self.add_weight(\n",
    "            name='mu',\n",
    "            shape=(int(shape[1]), self.nodes),\n",
    "            initializer='uniform',\n",
    "            trainable=True\n",
    "        )\n",
    "        super(CustomRBFLayer, self).build(shape)\n",
    "    \n",
    "    def call(self, inputs):\n",
    "        diff = backend.expand_dims(inputs) - self.mu\n",
    "        l2 = backend.sum(backend.pow(diff, 2), axis=1)\n",
    "        res = backend.exp(-1*self.beta*l2)\n",
    "        \n",
    "        return res\n",
    "\n",
    "    def output_shape(self, input_shape):\n",
    "        return (input_shape[0], self.nodes)"
   ]
  }
 ],
 "metadata": {
  "kernelspec": {
   "display_name": "Python 3 (ipykernel)",
   "language": "python",
   "name": "python3"
  },
  "language_info": {
   "codemirror_mode": {
    "name": "ipython",
    "version": 3
   },
   "file_extension": ".py",
   "mimetype": "text/x-python",
   "name": "python",
   "nbconvert_exporter": "python",
   "pygments_lexer": "ipython3",
   "version": "3.9.6"
  }
 },
 "nbformat": 4,
 "nbformat_minor": 5
}
