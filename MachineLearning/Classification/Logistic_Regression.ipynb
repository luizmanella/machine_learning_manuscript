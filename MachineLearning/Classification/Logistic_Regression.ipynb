{
 "cells": [
  {
   "cell_type": "code",
   "execution_count": 47,
   "id": "dba4b978",
   "metadata": {},
   "outputs": [],
   "source": [
    "import pandas as pd\n",
    "import numpy as np\n",
    "from sklearn import datasets"
   ]
  },
  {
   "cell_type": "code",
   "execution_count": 49,
   "id": "91525d97",
   "metadata": {},
   "outputs": [],
   "source": [
    "def popular_logistic_regression(df):\n",
    "    from sklearn.linear_model import LogisticRegression\n",
    "    \n",
    "    y = np.matrix(df['target']).T\n",
    "\n",
    "    cols = df.columns.to_list()\n",
    "    cols.remove('target')\n",
    "    X = np.matrix(df[cols].to_numpy())\n",
    "\n",
    "    clf = LogisticRegression(random_state=0, fit_intercept=False).fit(X, y)\n",
    "    \n",
    "    return clf.coef_"
   ]
  }
 ],
 "metadata": {
  "kernelspec": {
   "display_name": "Python 3",
   "language": "python",
   "name": "python3"
  },
  "language_info": {
   "codemirror_mode": {
    "name": "ipython",
    "version": 3
   },
   "file_extension": ".py",
   "mimetype": "text/x-python",
   "name": "python",
   "nbconvert_exporter": "python",
   "pygments_lexer": "ipython3",
   "version": "3.8.5"
  }
 },
 "nbformat": 4,
 "nbformat_minor": 5
}
